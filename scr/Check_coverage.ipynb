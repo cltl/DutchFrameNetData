{
 "cells": [
  {
   "cell_type": "markdown",
   "id": "ec45f185-5349-4973-8eee-d306999767a5",
   "metadata": {},
   "source": [
    "# Check coverage\n",
    "\n",
    "* duplicates\n",
    "* structured information\n",
    "* text type (primary or secondary)\n",
    "* broken files copy to separate directory and manual clean-up\n",
    "* extract language from file\n"
   ]
  },
  {
   "cell_type": "code",
   "execution_count": 1,
   "id": "99d99e95-a4e5-482d-b917-d5c4a6d3eb85",
   "metadata": {},
   "outputs": [],
   "source": [
    "import csv\n",
    "import json\n",
    "import requests\n",
    "from requests import ConnectionError\n",
    "from tqdm import tqdm"
   ]
  },
  {
   "cell_type": "code",
   "execution_count": 2,
   "id": "6ce03e9d-940c-47cc-9d47-4bf8b27b39b4",
   "metadata": {},
   "outputs": [],
   "source": [
    "with open('../data/overview-unique-ids-structured.csv') as infile:\n",
    "    data = list(csv.DictReader(infile, delimiter = ','))"
   ]
  },
  {
   "cell_type": "markdown",
   "id": "efa5d4da-0987-4189-8a07-248af1729542",
   "metadata": {},
   "source": [
    "# Check all incidents and add missing incident ids"
   ]
  },
  {
   "cell_type": "code",
   "execution_count": 3,
   "id": "6fbf0877-539a-4019-bb6c-e0b00728c072",
   "metadata": {},
   "outputs": [
    {
     "name": "stdout",
     "output_type": "stream",
     "text": [
      "24842 3800\n"
     ]
    }
   ],
   "source": [
    "inc_known = 0\n",
    "inc_unknown = 0\n",
    "texts_without_q = set()\n",
    "\n",
    "for d in data:\n",
    "    if d['inc_q'].startswith('Q'):\n",
    "        inc_known += 1\n",
    "    else:\n",
    "        inc_unknown += 1\n",
    "        #print(d['text_title'][:-4])\n",
    "        texts_without_q.add(d['text_title'][:-4])\n",
    "\n",
    "print(inc_known, inc_unknown)"
   ]
  },
  {
   "cell_type": "code",
   "execution_count": 4,
   "id": "75529c25-5574-401d-85ce-069801ada211",
   "metadata": {},
   "outputs": [],
   "source": [
    "path = '../data/releases-and-repos-sorted/v1/structured/inc2doc_index.json'\n",
    "\n",
    "with open(path) as infile:\n",
    "    inc2doc_v1 = json.load(infile)\n",
    "    \n",
    "path = '../data/releases-and-repos-sorted/DFNDataReleases/structured/inc2lang2doc_index.json'\n",
    "\n",
    "with open(path) as infile:\n",
    "    inc2doc_dfn = json.load(infile)\n",
    "    \n",
    "    \n",
    "path = '../data/releases-and-repos-sorted/DFN_annotations/structured/inc2lang2doc_index.json'\n",
    "\n",
    "with open(path) as infile:\n",
    "    inc2doc_annotations = json.load(infile)\n",
    "    \n",
    "    \n",
    "path = '../data/releases-and-repos-sorted/v1.1/structured/inc2str_index.json'\n",
    "\n",
    "with open(path) as infile:\n",
    "    inc2doc_v11 = json.load(infile)\n",
    "    \n",
    "    \n",
    "with open('../data/releases-and-repos-sorted/v1/structured/structured_and_unstructured.json') as infile:\n",
    "    struc_unstruc = json.load(infile)\n",
    "    \n",
    "    "
   ]
  },
  {
   "cell_type": "code",
   "execution_count": 5,
   "id": "0b31cad4-ff05-48dc-8f7e-4bd53a2d5d7c",
   "metadata": {},
   "outputs": [],
   "source": [
    "def text_inc_check(inc2doc, texts_without_q):\n",
    "    \n",
    "    text_q_inc_dict = dict()\n",
    "    for q_inc, lang_texts in inc2doc.items():\n",
    "        if type(lang_texts) == list:\n",
    "            for lang_text in lang_texts:\n",
    "                lang, text = lang_text.split('/')\n",
    "                #text = text.split('.')[0]\n",
    "                if text in texts_without_q:\n",
    "                    #print('found text:', text, q_inc)\n",
    "                    text_q_inc_dict[text] = q_inc\n",
    "        else:\n",
    "            for lang, texts in lang_texts.items():\n",
    "                for text in texts:\n",
    "                    #print(text)\n",
    "                    #text = text.split('.')[0]\n",
    "                    if text in texts_without_q:\n",
    "                        #print('found text:', text, q_inc)\n",
    "                        text_q_inc_dict[text] = q_inc\n",
    "    print('done')\n",
    "    return text_q_inc_dict"
   ]
  },
  {
   "cell_type": "code",
   "execution_count": 6,
   "id": "d1e15f54-6a27-43b7-9abb-2482e234eb39",
   "metadata": {},
   "outputs": [
    {
     "name": "stdout",
     "output_type": "stream",
     "text": [
      "done\n",
      "0\n"
     ]
    }
   ],
   "source": [
    "text_inc = text_inc_check(inc2doc_v1, texts_without_q)\n",
    "print(len(text_inc))"
   ]
  },
  {
   "cell_type": "code",
   "execution_count": 7,
   "id": "613fcd07-010e-4561-8f42-60e9de71972d",
   "metadata": {},
   "outputs": [
    {
     "name": "stdout",
     "output_type": "stream",
     "text": [
      "done\n",
      "0\n"
     ]
    }
   ],
   "source": [
    "text_inc2 = text_inc_check(inc2doc_dfn, texts_without_q)\n",
    "text_inc.update(text_inc2)\n",
    "print(len(text_inc))"
   ]
  },
  {
   "cell_type": "code",
   "execution_count": 8,
   "id": "888519c5-221c-48ce-a09e-4e4b58609b71",
   "metadata": {},
   "outputs": [
    {
     "name": "stdout",
     "output_type": "stream",
     "text": [
      "done\n",
      "0\n"
     ]
    }
   ],
   "source": [
    "text_inc3 = text_inc_check(inc2doc_annotations, texts_without_q)\n",
    "text_inc.update(text_inc3)\n",
    "print(len(text_inc))"
   ]
  },
  {
   "cell_type": "code",
   "execution_count": 9,
   "id": "8412bdc2-9dda-412c-b0ca-f138418b703c",
   "metadata": {},
   "outputs": [
    {
     "name": "stdout",
     "output_type": "stream",
     "text": [
      "done\n",
      "0\n"
     ]
    }
   ],
   "source": [
    "text_inc4 = text_inc_check(inc2doc_v11, texts_without_q)\n",
    "text_inc.update(text_inc4)\n",
    "print(len(text_inc))"
   ]
  },
  {
   "cell_type": "code",
   "execution_count": 10,
   "id": "fbba1e1e-d336-4d9a-a7bc-53d7f62cd237",
   "metadata": {},
   "outputs": [],
   "source": [
    "title_url = dict()\n",
    "for q_inc, ref_dict in struc_unstruc.items():\n",
    "    #print(q_inc, ref_dict)\n",
    "    lang_texts = ref_dict['reference_texts']\n",
    "    for lang, texts in lang_texts.items():\n",
    "        for text in texts:\n",
    "            text_inc[text['title']] = q_inc\n",
    "            title_url[text['title']] = text['url']"
   ]
  },
  {
   "cell_type": "code",
   "execution_count": 11,
   "id": "a5b98fef-cf2e-40ef-b8fb-740b22642a76",
   "metadata": {},
   "outputs": [
    {
     "name": "stdout",
     "output_type": "stream",
     "text": [
      "25961\n"
     ]
    }
   ],
   "source": [
    "# add to data\n",
    "print(len(text_inc))"
   ]
  },
  {
   "cell_type": "code",
   "execution_count": 12,
   "id": "642c9f9a-36a5-494d-8de1-3b28efdfae2d",
   "metadata": {},
   "outputs": [],
   "source": [
    "for d in data:\n",
    "    title = d['text_title'][:-4]\n",
    "    if title in text_inc:\n",
    "        d['inc_q'] = text_inc[title]\n",
    "        #print('added q number')"
   ]
  },
  {
   "cell_type": "code",
   "execution_count": 13,
   "id": "f2cc9963-49c3-4354-bc3c-166e54b775db",
   "metadata": {},
   "outputs": [
    {
     "name": "stdout",
     "output_type": "stream",
     "text": [
      "24842 3800\n"
     ]
    }
   ],
   "source": [
    "inc_known = 0\n",
    "inc_unknown = 0\n",
    "texts_without_q = set()\n",
    "\n",
    "for d in data:\n",
    "    if d['inc_q'].startswith('Q'):\n",
    "        inc_known += 1\n",
    "    else:\n",
    "        inc_unknown += 1\n",
    "        #print(d['text_title'][:-4])\n",
    "        texts_without_q.add(d['text_title'][:-4])\n",
    "    \n",
    "    if d['text_title'][:-4] in title_url:\n",
    "        #print('found url')\n",
    "        d['wikipedia_url_text'] = title_url[d['text_title'][:-4]]\n",
    "    else:\n",
    "        d['wikipedia_url_text'] = '-'\n",
    "\n",
    "print(inc_known, inc_unknown)"
   ]
  },
  {
   "cell_type": "code",
   "execution_count": 14,
   "id": "5438137c-c8d8-41a2-9e10-4565ef03d013",
   "metadata": {},
   "outputs": [],
   "source": [
    "header = data[0].keys()\n",
    "with open('../data/overview-unique-ids-structured.csv', 'w') as outfile:\n",
    "    writer = csv.DictWriter(outfile, fieldnames = header, delimiter = ',')\n",
    "    writer.writeheader()\n",
    "    for d in data:\n",
    "        writer.writerow(d)"
   ]
  },
  {
   "cell_type": "markdown",
   "id": "ee7d3573-7f0d-4386-a59a-9ab251bf9bd5",
   "metadata": {},
   "source": [
    "## Check all types and add missing type ids\n"
   ]
  },
  {
   "cell_type": "code",
   "execution_count": 15,
   "id": "0fde372e-7fcf-4281-9387-398bda5c1269",
   "metadata": {},
   "outputs": [],
   "source": [
    "data_dir = '../data/releases-and-repos-sorted'\n",
    "\n",
    "with open(f'{data_dir}/v1/structured/structured_and_unstructured.json') as infile:\n",
    "    struc_unstruc = json.load(infile)\n",
    "    \n",
    "with open(f'{data_dir}/v1/structured/type2inc_index.json') as infile:\n",
    "    type2inc_v1 = json.load(infile)\n",
    "    \n",
    "with open(f'{data_dir}/DFNDataReleases/structured/type2inc_index.json') as infile:\n",
    "    type2inc_dfn = json.load(infile)\n",
    "    \n",
    "    \n",
    "with open(f'{data_dir}/DFN_annotations/structured/type2inc_index.json') as infile:\n",
    "    type2inc_ann = json.load(infile)"
   ]
  },
  {
   "cell_type": "code",
   "execution_count": 16,
   "id": "4325abc7-13fb-4b58-b2ab-0419c5237e07",
   "metadata": {},
   "outputs": [
    {
     "name": "stdout",
     "output_type": "stream",
     "text": [
      "False\n",
      "False\n",
      "False\n"
     ]
    }
   ],
   "source": [
    "print(type2inc_v1 == type2inc_dfn)\n",
    "print(type2inc_v1 == type2inc_ann)\n",
    "print(type2inc_dfn == type2inc_ann)"
   ]
  },
  {
   "cell_type": "code",
   "execution_count": 17,
   "id": "42bfc11e-7ce8-496b-8d41-9b6fcd3cf84b",
   "metadata": {},
   "outputs": [
    {
     "name": "stdout",
     "output_type": "stream",
     "text": [
      "19979\n",
      "20908\n",
      "21213\n",
      "21213\n"
     ]
    }
   ],
   "source": [
    "# to fill \n",
    "inc_type_dict = dict()\n",
    "type_url_dict = dict()\n",
    "\n",
    "\n",
    "# collect from individual dicts\n",
    "for q_inc, ref_dict in struc_unstruc.items():\n",
    "    #print(q_inc, ref_dict)\n",
    "    event_type = ref_dict['event_type']\n",
    "    q_type = event_type.split('/')[-1]\n",
    "    inc_type_dict[q_inc] = q_type\n",
    "    type_url_dict[q_type] = event_type\n",
    "  \n",
    "print(len(inc_type_dict))\n",
    "\n",
    "for q_type, incs in type2inc_v1.items():\n",
    "    for inc in incs:\n",
    "        inc_type_dict[inc] = q_type\n",
    "print(len(inc_type_dict))\n",
    "        \n",
    "for q_type, incs in type2inc_dfn.items():\n",
    "    for inc in incs:\n",
    "        inc_type_dict[inc] = q_type\n",
    "        \n",
    "print(len(inc_type_dict))\n",
    "\n",
    "for q_type, incs in type2inc_ann.items():\n",
    "    for inc in incs:\n",
    "        inc_type_dict[inc] = q_type\n",
    "        \n",
    "print(len(inc_type_dict))"
   ]
  },
  {
   "cell_type": "code",
   "execution_count": 18,
   "id": "4fada61c-7138-4f7a-a894-36208989854c",
   "metadata": {},
   "outputs": [],
   "source": [
    "for d in data:\n",
    "    inc_q = d['inc_q']\n",
    "    type_q = d['type_q']\n",
    "    \n",
    "    if inc_q in inc_type_dict:\n",
    "        type_q_new = inc_type_dict[inc_q]\n",
    "    \n",
    "        if type_q_new != type_q:\n",
    "            #print('found new type')\n",
    "            d['type_q'] = type_q_new\n",
    "            \n",
    "            \n",
    "    type_q = d['type_q']\n",
    "    if type_q in type_url_dict:\n",
    "        d['type_url'] = type_url_dict[type_q]\n",
    "    else:\n",
    "        d['type_url'] = f'http://www.wikidata.org/entity/{type_q}'\n",
    "        \n",
    "    d['incident_url'] = f'http://www.wikidata.org/entity/{inc_q}'\n",
    "            "
   ]
  },
  {
   "cell_type": "code",
   "execution_count": 19,
   "id": "fd584537-2a09-47f9-aabf-6de65dfcbc45",
   "metadata": {},
   "outputs": [],
   "source": [
    "header = data[0].keys()\n",
    "with open('../data/overview-unique-ids-structured.csv', 'w') as outfile:\n",
    "    writer = csv.DictWriter(outfile, fieldnames = header, delimiter = ',')\n",
    "    writer.writeheader()\n",
    "    for d in data:\n",
    "        writer.writerow(d)"
   ]
  },
  {
   "cell_type": "markdown",
   "id": "e0a7df76-e260-49dc-a752-acc789fed4cd",
   "metadata": {},
   "source": [
    "## Add human-readable type and incident information"
   ]
  },
  {
   "cell_type": "code",
   "execution_count": 20,
   "id": "0d1f5361-ced4-4b6e-93a4-30eecec14a75",
   "metadata": {},
   "outputs": [
    {
     "name": "stdout",
     "output_type": "stream",
     "text": [
      "release v1\n",
      "lang en\n",
      "text_title 2000 Wokingham District Council election.naf\n",
      "annotation_mode system\n",
      "most_recent_annotation 2020-05-28T21:22:31UTC\n",
      "most_recent_annotator open-sesame\n",
      "annotators open-sesame\n",
      "creationtime 2019-07-20T00:00:00UTC\n",
      "other releases -\n",
      "unique_id 84c5d927-de62-4c1f-b82a-28f0404fbfd8\n",
      "type_q Q15966540\n",
      "inc_q Q8029342\n",
      "wikipedia_url_text https://en.wikipedia.org/wiki/2000_Wokingham_District_Council_election\n",
      "type_url http://www.wikidata.org/entity/Q15966540\n",
      "incident_url http://www.wikidata.org/entity/Q8029342\n",
      "type_name local election\n",
      "inc_name 2000 Wokingham District Council election\n",
      "valid_naf TRUE\n"
     ]
    }
   ],
   "source": [
    "for k, v in data[1].items():\n",
    "    print(k, v)"
   ]
  },
  {
   "cell_type": "code",
   "execution_count": null,
   "id": "43a7c29a-6748-4bfa-a0c9-57bde7a436f6",
   "metadata": {},
   "outputs": [],
   "source": [
    "http://www.wikidata.org/entity/Q15966540\n",
    "http://www.wikidata.org/entity/Q8029342\n",
    "\n",
    "\n",
    "http://www.wikidata.org/entity/Q15061650"
   ]
  },
  {
   "cell_type": "code",
   "execution_count": 81,
   "id": "5405fadf-c719-4fa2-b195-5de5f1aeef8c",
   "metadata": {},
   "outputs": [
    {
     "name": "stdout",
     "output_type": "stream",
     "text": [
      "35 1522\n"
     ]
    }
   ],
   "source": [
    "# \n",
    "type_urls = set()\n",
    "inc_urls = set()\n",
    "\n",
    "for d in data:\n",
    "    if d['inc_q'].startswith('Q'):\n",
    "        if d['inc_name'] == '-':\n",
    "            inc_urls.add(d['incident_url'])\n",
    "    if d['type_q'].startswith('Q'):\n",
    "        type_urls.add(d['type_url'])\n",
    "print(len(type_urls), len(inc_urls))                   "
   ]
  },
  {
   "cell_type": "code",
   "execution_count": 38,
   "id": "ffc75e4a-e8b8-473d-a77f-be21409aa8c1",
   "metadata": {},
   "outputs": [],
   "source": [
    "# type_names = dict()\n",
    "# for type_url in tqdm(type_urls):\n",
    "#     q = type_url.split('/')[-1]\n",
    "#     r = requests.get(type_url)\n",
    "#     status = r.status_code\n",
    "#     if status == 200:\n",
    "#         json  = r.json()['entities']\n",
    "#         if q in json:\n",
    "#             type_name_en = json[q]['labels']['en']['value']\n",
    "#             type_names[q] = type_name_en\n",
    "#         else:\n",
    "#             print(q, 'not found')\n",
    "#     else:\n",
    "#         print(status)\n",
    "#         print('too slow')"
   ]
  },
  {
   "cell_type": "code",
   "execution_count": 184,
   "id": "cdc38254-a82b-44d7-85f1-dc2da2f65a28",
   "metadata": {},
   "outputs": [],
   "source": [
    "for d in data:\n",
    "    type_q = d['type_q']\n",
    "    if type_q in type_names:\n",
    "        d['type_name'] = type_names[type_q]\n",
    "    else:\n",
    "        d['type_name'] = '-'"
   ]
  },
  {
   "cell_type": "code",
   "execution_count": 185,
   "id": "cd8a4e0e-6e31-42ca-9e1b-65d5ce541e9f",
   "metadata": {},
   "outputs": [],
   "source": [
    "header = data[0].keys()\n",
    "with open('../data/overview-unique-ids-structured.csv', 'w') as outfile:\n",
    "    writer = csv.DictWriter(outfile, fieldnames = header, delimiter = ',')\n",
    "    writer.writeheader()\n",
    "    for d in data:\n",
    "        writer.writerow(d)"
   ]
  },
  {
   "cell_type": "code",
   "execution_count": 82,
   "id": "fe3a8c95-8ca0-40e7-b5d9-162d19e46a01",
   "metadata": {},
   "outputs": [
    {
     "name": "stderr",
     "output_type": "stream",
     "text": [
      "  0%|                                          | 1/1522 [00:00<15:54,  1.59it/s]"
     ]
    },
    {
     "name": "stdout",
     "output_type": "stream",
     "text": [
      "404\n",
      "too slow\n"
     ]
    },
    {
     "name": "stderr",
     "output_type": "stream",
     "text": [
      "  0%|                                          | 2/1522 [00:01<13:16,  1.91it/s]"
     ]
    },
    {
     "name": "stdout",
     "output_type": "stream",
     "text": [
      "Q48796779 not found\n"
     ]
    },
    {
     "name": "stderr",
     "output_type": "stream",
     "text": [
      "  0%|                                          | 3/1522 [00:01<12:09,  2.08it/s]"
     ]
    },
    {
     "name": "stdout",
     "output_type": "stream",
     "text": [
      "404\n",
      "too slow\n"
     ]
    },
    {
     "name": "stderr",
     "output_type": "stream",
     "text": [
      "  0%|                                          | 4/1522 [00:02<13:45,  1.84it/s]"
     ]
    },
    {
     "name": "stdout",
     "output_type": "stream",
     "text": [
      "Q57526331 not found\n"
     ]
    },
    {
     "name": "stderr",
     "output_type": "stream",
     "text": [
      "  0%|▏                                         | 5/1522 [00:02<12:37,  2.00it/s]"
     ]
    },
    {
     "name": "stdout",
     "output_type": "stream",
     "text": [
      "404\n",
      "too slow\n"
     ]
    },
    {
     "name": "stderr",
     "output_type": "stream",
     "text": [
      "  0%|▏                                         | 6/1522 [00:03<15:37,  1.62it/s]"
     ]
    },
    {
     "name": "stdout",
     "output_type": "stream",
     "text": [
      "Q4948963 not found\n"
     ]
    },
    {
     "name": "stderr",
     "output_type": "stream",
     "text": [
      "  0%|▏                                         | 7/1522 [00:04<15:43,  1.60it/s]"
     ]
    },
    {
     "name": "stdout",
     "output_type": "stream",
     "text": [
      "Q16971755 not found\n"
     ]
    },
    {
     "name": "stderr",
     "output_type": "stream",
     "text": [
      "  1%|▏                                         | 8/1522 [00:04<15:58,  1.58it/s]"
     ]
    },
    {
     "name": "stdout",
     "output_type": "stream",
     "text": [
      "404\n",
      "too slow\n"
     ]
    },
    {
     "name": "stderr",
     "output_type": "stream",
     "text": [
      "  1%|▏                                         | 9/1522 [00:05<16:18,  1.55it/s]"
     ]
    },
    {
     "name": "stdout",
     "output_type": "stream",
     "text": [
      "404\n",
      "too slow\n"
     ]
    },
    {
     "name": "stderr",
     "output_type": "stream",
     "text": [
      "  1%|▎                                        | 10/1522 [00:05<14:45,  1.71it/s]"
     ]
    },
    {
     "name": "stdout",
     "output_type": "stream",
     "text": [
      "Q25006560 not found\n"
     ]
    },
    {
     "name": "stderr",
     "output_type": "stream",
     "text": [
      "  1%|▎                                        | 11/1522 [00:06<13:47,  1.83it/s]"
     ]
    },
    {
     "name": "stdout",
     "output_type": "stream",
     "text": [
      "Q2624708 not found\n"
     ]
    },
    {
     "name": "stderr",
     "output_type": "stream",
     "text": [
      "  1%|▎                                        | 12/1522 [00:06<14:22,  1.75it/s]"
     ]
    },
    {
     "name": "stdout",
     "output_type": "stream",
     "text": [
      "Q4870812 not found\n"
     ]
    },
    {
     "name": "stderr",
     "output_type": "stream",
     "text": [
      "  1%|▎                                        | 13/1522 [00:07<14:35,  1.72it/s]"
     ]
    },
    {
     "name": "stdout",
     "output_type": "stream",
     "text": [
      "Q4948965 not found\n"
     ]
    },
    {
     "name": "stderr",
     "output_type": "stream",
     "text": [
      "  1%|▍                                        | 14/1522 [00:07<13:46,  1.82it/s]"
     ]
    },
    {
     "name": "stdout",
     "output_type": "stream",
     "text": [
      "Q18640034 not found\n"
     ]
    },
    {
     "name": "stderr",
     "output_type": "stream",
     "text": [
      "  1%|▍                                        | 15/1522 [00:08<13:48,  1.82it/s]"
     ]
    },
    {
     "name": "stdout",
     "output_type": "stream",
     "text": [
      "Q22704310 not found\n"
     ]
    },
    {
     "name": "stderr",
     "output_type": "stream",
     "text": [
      "  1%|▍                                        | 16/1522 [00:09<15:03,  1.67it/s]"
     ]
    },
    {
     "name": "stdout",
     "output_type": "stream",
     "text": [
      "404\n",
      "too slow\n"
     ]
    },
    {
     "name": "stderr",
     "output_type": "stream",
     "text": [
      "  1%|▍                                        | 17/1522 [00:10<16:36,  1.51it/s]"
     ]
    },
    {
     "name": "stdout",
     "output_type": "stream",
     "text": [
      "404\n",
      "too slow\n"
     ]
    },
    {
     "name": "stderr",
     "output_type": "stream",
     "text": [
      "  1%|▍                                        | 18/1522 [00:10<16:05,  1.56it/s]"
     ]
    },
    {
     "name": "stdout",
     "output_type": "stream",
     "text": [
      "404\n",
      "too slow\n"
     ]
    },
    {
     "name": "stderr",
     "output_type": "stream",
     "text": [
      "  1%|▌                                        | 19/1522 [00:12<23:09,  1.08it/s]"
     ]
    },
    {
     "name": "stdout",
     "output_type": "stream",
     "text": [
      "404\n",
      "too slow\n"
     ]
    },
    {
     "name": "stderr",
     "output_type": "stream",
     "text": [
      "  1%|▌                                        | 20/1522 [00:13<23:47,  1.05it/s]"
     ]
    },
    {
     "name": "stdout",
     "output_type": "stream",
     "text": [
      "404\n",
      "too slow\n"
     ]
    },
    {
     "name": "stderr",
     "output_type": "stream",
     "text": [
      "  1%|▌                                        | 21/1522 [00:13<19:48,  1.26it/s]"
     ]
    },
    {
     "name": "stdout",
     "output_type": "stream",
     "text": [
      "404\n",
      "too slow\n"
     ]
    },
    {
     "name": "stderr",
     "output_type": "stream",
     "text": [
      "  1%|▌                                        | 22/1522 [00:14<18:20,  1.36it/s]"
     ]
    },
    {
     "name": "stdout",
     "output_type": "stream",
     "text": [
      "404\n",
      "too slow\n"
     ]
    },
    {
     "name": "stderr",
     "output_type": "stream",
     "text": [
      "  2%|▌                                        | 23/1522 [00:14<17:29,  1.43it/s]"
     ]
    },
    {
     "name": "stdout",
     "output_type": "stream",
     "text": [
      "Q16154083 not found\n"
     ]
    },
    {
     "name": "stderr",
     "output_type": "stream",
     "text": [
      "  2%|▋                                        | 24/1522 [00:15<20:22,  1.23it/s]"
     ]
    },
    {
     "name": "stdout",
     "output_type": "stream",
     "text": [
      "Q48449867 not found\n"
     ]
    },
    {
     "name": "stderr",
     "output_type": "stream",
     "text": [
      "  2%|▋                                        | 25/1522 [00:16<17:42,  1.41it/s]"
     ]
    },
    {
     "name": "stdout",
     "output_type": "stream",
     "text": [
      "Q4017350 not found\n"
     ]
    },
    {
     "name": "stderr",
     "output_type": "stream",
     "text": [
      "  2%|▋                                        | 26/1522 [00:17<17:12,  1.45it/s]"
     ]
    },
    {
     "name": "stdout",
     "output_type": "stream",
     "text": [
      "Q17515467 not found\n"
     ]
    },
    {
     "name": "stderr",
     "output_type": "stream",
     "text": [
      "  2%|▋                                        | 27/1522 [00:17<18:35,  1.34it/s]"
     ]
    },
    {
     "name": "stdout",
     "output_type": "stream",
     "text": [
      "404\n",
      "too slow\n"
     ]
    },
    {
     "name": "stderr",
     "output_type": "stream",
     "text": [
      "  2%|▊                                        | 28/1522 [00:18<19:14,  1.29it/s]"
     ]
    },
    {
     "name": "stdout",
     "output_type": "stream",
     "text": [
      "404\n",
      "too slow\n"
     ]
    },
    {
     "name": "stderr",
     "output_type": "stream",
     "text": [
      "  2%|▊                                        | 29/1522 [00:19<19:21,  1.29it/s]"
     ]
    },
    {
     "name": "stdout",
     "output_type": "stream",
     "text": [
      "404\n",
      "too slow\n"
     ]
    },
    {
     "name": "stderr",
     "output_type": "stream",
     "text": [
      "  2%|▊                                        | 30/1522 [00:20<18:11,  1.37it/s]"
     ]
    },
    {
     "name": "stdout",
     "output_type": "stream",
     "text": [
      "404\n",
      "too slow\n"
     ]
    },
    {
     "name": "stderr",
     "output_type": "stream",
     "text": [
      "  2%|▊                                        | 31/1522 [00:21<20:06,  1.24it/s]"
     ]
    },
    {
     "name": "stdout",
     "output_type": "stream",
     "text": [
      "404\n",
      "too slow\n"
     ]
    },
    {
     "name": "stderr",
     "output_type": "stream",
     "text": [
      "  2%|▊                                        | 32/1522 [00:21<19:30,  1.27it/s]"
     ]
    },
    {
     "name": "stdout",
     "output_type": "stream",
     "text": [
      "404\n",
      "too slow\n"
     ]
    },
    {
     "name": "stderr",
     "output_type": "stream",
     "text": [
      "  2%|▉                                        | 33/1522 [00:22<16:52,  1.47it/s]"
     ]
    },
    {
     "name": "stdout",
     "output_type": "stream",
     "text": [
      "Q4584442 not found\n"
     ]
    },
    {
     "name": "stderr",
     "output_type": "stream",
     "text": [
      "  2%|▉                                        | 34/1522 [00:22<15:07,  1.64it/s]"
     ]
    },
    {
     "name": "stdout",
     "output_type": "stream",
     "text": [
      "Q19576776 not found\n"
     ]
    },
    {
     "name": "stderr",
     "output_type": "stream",
     "text": [
      "  2%|▉                                        | 35/1522 [00:23<15:05,  1.64it/s]"
     ]
    },
    {
     "name": "stdout",
     "output_type": "stream",
     "text": [
      "404\n",
      "too slow\n"
     ]
    },
    {
     "name": "stderr",
     "output_type": "stream",
     "text": [
      "  2%|▉                                        | 36/1522 [00:23<13:58,  1.77it/s]"
     ]
    },
    {
     "name": "stdout",
     "output_type": "stream",
     "text": [
      "Q18127182 not found\n"
     ]
    },
    {
     "name": "stderr",
     "output_type": "stream",
     "text": [
      "  2%|▉                                        | 37/1522 [00:24<12:56,  1.91it/s]"
     ]
    },
    {
     "name": "stdout",
     "output_type": "stream",
     "text": [
      "404\n",
      "too slow\n"
     ]
    },
    {
     "name": "stderr",
     "output_type": "stream",
     "text": [
      "  2%|█                                        | 38/1522 [00:24<12:19,  2.01it/s]"
     ]
    },
    {
     "name": "stdout",
     "output_type": "stream",
     "text": [
      "Q15060533 not found\n"
     ]
    },
    {
     "name": "stderr",
     "output_type": "stream",
     "text": [
      "  3%|█                                        | 39/1522 [00:25<13:04,  1.89it/s]"
     ]
    },
    {
     "name": "stdout",
     "output_type": "stream",
     "text": [
      "404\n",
      "too slow\n"
     ]
    },
    {
     "name": "stderr",
     "output_type": "stream",
     "text": [
      "  3%|█                                        | 40/1522 [00:25<12:19,  2.01it/s]"
     ]
    },
    {
     "name": "stdout",
     "output_type": "stream",
     "text": [
      "404\n",
      "too slow\n"
     ]
    },
    {
     "name": "stderr",
     "output_type": "stream",
     "text": [
      "  3%|█                                        | 41/1522 [00:26<13:31,  1.82it/s]"
     ]
    },
    {
     "name": "stdout",
     "output_type": "stream",
     "text": [
      "Q4709225 not found\n"
     ]
    },
    {
     "name": "stderr",
     "output_type": "stream",
     "text": [
      "  3%|█▏                                       | 42/1522 [00:27<13:59,  1.76it/s]"
     ]
    },
    {
     "name": "stdout",
     "output_type": "stream",
     "text": [
      "404\n",
      "too slow\n"
     ]
    },
    {
     "name": "stderr",
     "output_type": "stream",
     "text": [
      "  3%|█▏                                       | 43/1522 [00:27<12:52,  1.91it/s]"
     ]
    },
    {
     "name": "stdout",
     "output_type": "stream",
     "text": [
      "404\n",
      "too slow\n"
     ]
    },
    {
     "name": "stderr",
     "output_type": "stream",
     "text": [
      "  3%|█▏                                       | 44/1522 [00:27<12:09,  2.03it/s]"
     ]
    },
    {
     "name": "stdout",
     "output_type": "stream",
     "text": [
      "404\n",
      "too slow\n"
     ]
    },
    {
     "name": "stderr",
     "output_type": "stream",
     "text": [
      "  3%|█▏                                       | 45/1522 [00:28<13:17,  1.85it/s]"
     ]
    },
    {
     "name": "stdout",
     "output_type": "stream",
     "text": [
      "Q48836038 not found\n"
     ]
    },
    {
     "name": "stderr",
     "output_type": "stream",
     "text": [
      "  3%|█▏                                       | 46/1522 [00:29<14:29,  1.70it/s]"
     ]
    },
    {
     "name": "stdout",
     "output_type": "stream",
     "text": [
      "Q19962617 not found\n"
     ]
    },
    {
     "name": "stderr",
     "output_type": "stream",
     "text": [
      "  3%|█▎                                       | 47/1522 [00:30<16:17,  1.51it/s]"
     ]
    },
    {
     "name": "stdout",
     "output_type": "stream",
     "text": [
      "Q47487878 not found\n"
     ]
    },
    {
     "name": "stderr",
     "output_type": "stream",
     "text": [
      "  3%|█▎                                       | 48/1522 [00:30<14:30,  1.69it/s]"
     ]
    },
    {
     "name": "stdout",
     "output_type": "stream",
     "text": [
      "404\n",
      "too slow\n"
     ]
    },
    {
     "name": "stderr",
     "output_type": "stream",
     "text": [
      "  3%|█▎                                       | 49/1522 [00:31<15:11,  1.62it/s]"
     ]
    },
    {
     "name": "stdout",
     "output_type": "stream",
     "text": [
      "Q18127153 not found\n"
     ]
    },
    {
     "name": "stderr",
     "output_type": "stream",
     "text": [
      "  3%|█▎                                       | 50/1522 [00:31<15:13,  1.61it/s]"
     ]
    },
    {
     "name": "stdout",
     "output_type": "stream",
     "text": [
      "Q48532728 not found\n"
     ]
    },
    {
     "name": "stderr",
     "output_type": "stream",
     "text": [
      "  3%|█▎                                       | 51/1522 [00:32<15:34,  1.57it/s]"
     ]
    },
    {
     "name": "stdout",
     "output_type": "stream",
     "text": [
      "Q62612551 not found\n"
     ]
    },
    {
     "name": "stderr",
     "output_type": "stream",
     "text": [
      "  3%|█▍                                       | 52/1522 [00:33<15:10,  1.61it/s]"
     ]
    },
    {
     "name": "stdout",
     "output_type": "stream",
     "text": [
      "404\n",
      "too slow\n"
     ]
    },
    {
     "name": "stderr",
     "output_type": "stream",
     "text": [
      "  3%|█▍                                       | 53/1522 [00:34<22:50,  1.07it/s]"
     ]
    },
    {
     "name": "stdout",
     "output_type": "stream",
     "text": [
      "404\n",
      "too slow\n"
     ]
    },
    {
     "name": "stderr",
     "output_type": "stream",
     "text": [
      "  8%|███▏                                    | 121/1522 [01:19<11:41,  2.00it/s]"
     ]
    },
    {
     "name": "stdout",
     "output_type": "stream",
     "text": [
      "Q55873777 not found\n"
     ]
    },
    {
     "name": "stderr",
     "output_type": "stream",
     "text": [
      " 18%|███████                                 | 270/1522 [02:53<18:45,  1.11it/s]"
     ]
    },
    {
     "name": "stdout",
     "output_type": "stream",
     "text": [
      "404\n",
      "too slow\n"
     ]
    },
    {
     "name": "stderr",
     "output_type": "stream",
     "text": [
      " 18%|███████▏                                | 274/1522 [02:56<15:44,  1.32it/s]"
     ]
    },
    {
     "name": "stdout",
     "output_type": "stream",
     "text": [
      "404\n",
      "too slow\n"
     ]
    },
    {
     "name": "stderr",
     "output_type": "stream",
     "text": [
      " 21%|████████▎                               | 318/1522 [03:29<15:50,  1.27it/s]"
     ]
    },
    {
     "name": "stdout",
     "output_type": "stream",
     "text": [
      "Q6826029 not found\n"
     ]
    },
    {
     "name": "stderr",
     "output_type": "stream",
     "text": [
      " 22%|████████▌                               | 328/1522 [03:36<13:24,  1.48it/s]"
     ]
    },
    {
     "name": "stdout",
     "output_type": "stream",
     "text": [
      "Q16243575 not found\n"
     ]
    },
    {
     "name": "stderr",
     "output_type": "stream",
     "text": [
      " 25%|█████████▊                              | 375/1522 [04:08<11:07,  1.72it/s]"
     ]
    },
    {
     "name": "stdout",
     "output_type": "stream",
     "text": [
      "404\n",
      "too slow\n"
     ]
    },
    {
     "name": "stderr",
     "output_type": "stream",
     "text": [
      " 29%|███████████▌                            | 438/1522 [04:51<13:49,  1.31it/s]"
     ]
    },
    {
     "name": "stdout",
     "output_type": "stream",
     "text": [
      "Q56042819 not found\n"
     ]
    },
    {
     "name": "stderr",
     "output_type": "stream",
     "text": [
      " 34%|█████████████▌                          | 518/1522 [05:38<10:12,  1.64it/s]"
     ]
    },
    {
     "name": "stdout",
     "output_type": "stream",
     "text": [
      "Q48724051 not found\n"
     ]
    },
    {
     "name": "stderr",
     "output_type": "stream",
     "text": [
      " 36%|██████████████▎                         | 546/1522 [05:55<08:37,  1.88it/s]"
     ]
    },
    {
     "name": "stdout",
     "output_type": "stream",
     "text": [
      "Q20312333 not found\n"
     ]
    },
    {
     "name": "stderr",
     "output_type": "stream",
     "text": [
      " 36%|██████████████▍                         | 549/1522 [05:57<10:30,  1.54it/s]"
     ]
    },
    {
     "name": "stdout",
     "output_type": "stream",
     "text": [
      "Q48844546 not found\n"
     ]
    },
    {
     "name": "stderr",
     "output_type": "stream",
     "text": [
      " 48%|███████████████████▏                    | 731/1522 [07:50<06:11,  2.13it/s]"
     ]
    },
    {
     "name": "stdout",
     "output_type": "stream",
     "text": [
      "404\n",
      "too slow\n"
     ]
    },
    {
     "name": "stderr",
     "output_type": "stream",
     "text": [
      " 52%|████████████████████▋                   | 786/1522 [08:22<06:25,  1.91it/s]"
     ]
    },
    {
     "name": "stdout",
     "output_type": "stream",
     "text": [
      "404\n",
      "too slow\n"
     ]
    },
    {
     "name": "stderr",
     "output_type": "stream",
     "text": [
      " 54%|█████████████████████▊                  | 829/1522 [08:47<08:03,  1.43it/s]"
     ]
    },
    {
     "name": "stdout",
     "output_type": "stream",
     "text": [
      "Q4709211 not found\n"
     ]
    },
    {
     "name": "stderr",
     "output_type": "stream",
     "text": [
      " 62%|████████████████████████▊               | 944/1522 [10:06<05:22,  1.79it/s]"
     ]
    },
    {
     "name": "stdout",
     "output_type": "stream",
     "text": [
      "Q30681486 not found\n"
     ]
    },
    {
     "name": "stderr",
     "output_type": "stream",
     "text": [
      " 63%|█████████████████████████▏              | 957/1522 [10:15<07:08,  1.32it/s]"
     ]
    },
    {
     "name": "stdout",
     "output_type": "stream",
     "text": [
      "404\n",
      "too slow\n"
     ]
    },
    {
     "name": "stderr",
     "output_type": "stream",
     "text": [
      " 64%|█████████████████████████▌              | 974/1522 [10:28<08:39,  1.06it/s]"
     ]
    },
    {
     "name": "stdout",
     "output_type": "stream",
     "text": [
      "404\n",
      "too slow\n"
     ]
    },
    {
     "name": "stderr",
     "output_type": "stream",
     "text": [
      " 64%|█████████████████████████▋              | 976/1522 [10:30<08:32,  1.07it/s]"
     ]
    },
    {
     "name": "stdout",
     "output_type": "stream",
     "text": [
      "Q16243580 not found\n"
     ]
    },
    {
     "name": "stderr",
     "output_type": "stream",
     "text": [
      " 79%|██████████████████████████████▋        | 1197/1522 [12:54<04:50,  1.12it/s]"
     ]
    },
    {
     "name": "stdout",
     "output_type": "stream",
     "text": [
      "Q7982148 not found\n"
     ]
    },
    {
     "name": "stderr",
     "output_type": "stream",
     "text": [
      " 82%|███████████████████████████████▉       | 1246/1522 [13:27<03:17,  1.40it/s]"
     ]
    },
    {
     "name": "stdout",
     "output_type": "stream",
     "text": [
      "Q21511542 not found\n"
     ]
    },
    {
     "name": "stderr",
     "output_type": "stream",
     "text": [
      " 82%|████████████████████████████████       | 1252/1522 [13:32<03:27,  1.30it/s]"
     ]
    },
    {
     "name": "stdout",
     "output_type": "stream",
     "text": [
      "Q28172437 not found\n"
     ]
    },
    {
     "name": "stderr",
     "output_type": "stream",
     "text": [
      " 93%|████████████████████████████████████▏  | 1412/1522 [15:19<01:09,  1.58it/s]"
     ]
    },
    {
     "name": "stdout",
     "output_type": "stream",
     "text": [
      "Q4585775 not found\n"
     ]
    },
    {
     "name": "stderr",
     "output_type": "stream",
     "text": [
      "100%|███████████████████████████████████████| 1522/1522 [16:33<00:00,  1.53it/s]\n"
     ]
    }
   ],
   "source": [
    "inc_names = dict()\n",
    "for inc_url in tqdm(inc_urls):\n",
    "    q = inc_url.split('/')[-1]\n",
    "    try:\n",
    "        r = requests.get(inc_url)\n",
    "        status = r.status_code\n",
    "        if status == 200:\n",
    "            json  = r.json()['entities']\n",
    "            if q in json:\n",
    "                inc_name_en = json[q]['labels']['en']['value']\n",
    "                inc_names[q] = inc_name_en\n",
    "            else:\n",
    "                print(q, 'not found')\n",
    "        else:\n",
    "            print(status)\n",
    "            print('too slow')\n",
    "    except ConnectionError:\n",
    "        print('connection error')"
   ]
  },
  {
   "cell_type": "code",
   "execution_count": 83,
   "id": "5385d9c8-e313-4dd8-a26e-361861d82d17",
   "metadata": {},
   "outputs": [
    {
     "name": "stdout",
     "output_type": "stream",
     "text": [
      "1448\n"
     ]
    }
   ],
   "source": [
    "print(len(inc_names))"
   ]
  },
  {
   "cell_type": "code",
   "execution_count": null,
   "id": "4cf721da-8859-48a1-b03c-d0f68937a3c3",
   "metadata": {},
   "outputs": [],
   "source": [
    "# 15571"
   ]
  },
  {
   "cell_type": "code",
   "execution_count": 84,
   "id": "f991f28f-97de-4847-9b9f-cf9086a33968",
   "metadata": {},
   "outputs": [],
   "source": [
    "\n",
    "for d in data:\n",
    "    inc_q = d['inc_q']\n",
    "    if inc_q in inc_names:\n",
    "        d['inc_name'] = inc_names[inc_q]\n",
    "    else:\n",
    "        pass\n",
    "\n",
    "        "
   ]
  },
  {
   "cell_type": "code",
   "execution_count": 85,
   "id": "713aa143-1271-4903-bac0-f7fd604b6d75",
   "metadata": {},
   "outputs": [],
   "source": [
    "# 2509/19267 \n",
    "# run again tomorrow\n",
    "\n",
    "header = data[0].keys()\n",
    "with open('../data/overview-unique-ids-structured.csv', 'w') as outfile:\n",
    "    writer = csv.DictWriter(outfile, fieldnames = header, delimiter = ',')\n",
    "    writer.writeheader()\n",
    "    for d in data:\n",
    "        writer.writerow(d)"
   ]
  },
  {
   "cell_type": "markdown",
   "id": "26ee70e4-4da6-45df-80ee-c6489a8c195a",
   "metadata": {},
   "source": [
    "# Write broken nafs to separate directory"
   ]
  },
  {
   "cell_type": "code",
   "execution_count": 3,
   "id": "39543132-ff43-48a6-977f-6b2051cba8c6",
   "metadata": {},
   "outputs": [],
   "source": [
    "import os\n",
    "from lxml import etree as et\n",
    "from lxml.etree import XMLSyntaxError"
   ]
  },
  {
   "cell_type": "code",
   "execution_count": 4,
   "id": "0ae3fcbd-e7b6-48db-94dd-fdada52ef62b",
   "metadata": {},
   "outputs": [],
   "source": [
    "with open('../data/overview-unique-ids-structured.csv') as infile:\n",
    "    data = list(csv.DictReader(infile, delimiter = ','))"
   ]
  },
  {
   "cell_type": "code",
   "execution_count": 5,
   "id": "de15814c-5551-41d8-9268-7e7bce9a7221",
   "metadata": {},
   "outputs": [],
   "source": [
    "path_dir = '../data/data-unique-ids-final/broken-nafs'\n",
    "#os.mkdir(path_dir)"
   ]
  },
  {
   "cell_type": "code",
   "execution_count": 25,
   "id": "651e2d2c-7f71-4841-b00a-9891b4f61894",
   "metadata": {},
   "outputs": [
    {
     "name": "stdout",
     "output_type": "stream",
     "text": [
      "v1.1 Danforth shooter ‘was afraid he was going to hurt people’.naf\n",
      "b4b6c894-8f0b-4ce3-b898-971d98f84289\n",
      "File is a valid naf!\n",
      "\n",
      "v1.1 Abrupt End To Defense In Rail Case.naf\n",
      "1681bf80-8d22-44db-92aa-5bc9ad729ebc\n",
      "File is a valid naf!\n",
      "\n",
      "v1.1 After Train Killings, Worry About Backlash.naf\n",
      "fa949687-7d49-4c7c-aa85-29d60918284f\n",
      "File is a valid naf!\n",
      "\n",
      "v1.1 Teen’s downward spiral ends in gunfire, death.naf\n",
      "eedde8d0-e5cc-4183-babe-7018f7a6b570\n",
      "File is a valid naf!\n",
      "\n",
      "v1.1 Police evacuate Wis. neighborhood near shooting.naf\n",
      "0c423f11-7f19-4df2-af7f-4ea21fb76f31\n",
      "File is a valid naf!\n",
      "\n",
      "v1.1 101 Calif. massacre law firm closing.naf\n",
      "d4d7b7a8-f717-4198-b6be-4cab612d9fb1\n",
      "File is a valid naf!\n",
      "\n",
      "v1.1 A timeline of the Fredericton shooting that killed 4 people, including 2 officers.naf\n",
      "96a89271-cfa9-43b5-be09-68e79826c588\n",
      "File is a valid naf!\n",
      "\n",
      "v1.1 Wilkinsburg Mass Shooting Suspect Robert Thomas Out Of Jail After Having Case Dismissed.naf\n",
      "4fa77a7b-ebbb-40f5-a3b3-d75c93f259dc\n",
      "File is a valid naf!\n",
      "\n",
      "v1.1 Hesston shooter was served with the same paperwork twice.naf\n",
      "508f1047-9908-4750-aeb2-4eb86316d921\n",
      "File is NOT a valid naf\n",
      "\n",
      "v1.1 Margaret River massacre: Depression drug clue to grandfather’s murder of family.naf\n",
      "804b1bdf-5dcd-4fe1-8c53-5bacb8eb44ee\n",
      "File is NOT a valid naf\n",
      "\n",
      "v1.1 Cumbria: Derrick Bird's Twin Brother Among 12 People Killed In Shooting Spree.naf\n",
      "45ac1a17-cae0-4935-8d1c-6dc7dccfd08b\n",
      "File is NOT a valid naf\n",
      "\n",
      "v1.1 Widow of man killed in Fredericton shooting says she swore at Trudeau during condolence call.naf\n",
      "2d1af31b-41db-46ae-9c9d-d4a19160bed2\n",
      "File is NOT a valid naf\n",
      "\n",
      "v1.1 Police chief: Temple shooting being treated as \"a domestic terrorist-type incident\".naf\n",
      "5cd1d7eb-7fbe-4089-bc55-4c13c00a89f1\n",
      "File is NOT a valid naf\n",
      "\n",
      "v1.1 Suspected gunman was out on parole as four dead.naf\n",
      "c06bdf60-095b-4eaf-a12c-314035af8cda\n",
      "File is NOT a valid naf\n",
      "\n",
      "v1.1 Mali Says 2 Gunmen Carried Out Hotel Attack in Bamako.naf\n",
      "a5b90a10-4b04-4ba8-b5d5-331516aa7310\n",
      "File is NOT a valid naf\n",
      "\n",
      "v1.1 Alec McKinney, STEM School shooting suspect, pleads guilty.naf\n",
      "7a927c9e-728b-4a30-8a76-aa4e9ffc1c42\n",
      "File is NOT a valid naf\n",
      "\n",
      "v1.1 Dutch police arrest teen for threatening mass shooting on Twitter.naf\n",
      "2dae1233-0245-4b9f-b7df-3a962bf7bbec\n",
      "File is NOT a valid naf\n",
      "\n",
      "v1.1 State official: Shooter placed in mental health facility 5 years ago.naf\n",
      "9e757d2e-e0e4-455a-b097-60872809bd37\n",
      "File is NOT a valid naf\n",
      "\n",
      "v1.1 Gunmen Fire Into Ulster Church; 3 Protestants Killed, 7 Wounded.naf\n",
      "c7e5cab3-df93-43a1-8507-4e581dea3938\n",
      "File is NOT a valid naf\n",
      "\n",
      "v1.1 Lawmakers propose more protections for domestic violence victims.naf\n",
      "fc5e3172-e340-461c-a913-37bef7b36659\n",
      "File is NOT a valid naf\n",
      "\n"
     ]
    }
   ],
   "source": [
    "broken_nafs = []\n",
    "\n",
    "path_dir_naf =  '../data/data-unique-ids-final/unstructured'\n",
    "\n",
    "for d in data:\n",
    "    #print(d['valid_naf'])\n",
    "    if d['valid_naf'] == 'FALSE':\n",
    "        print(d['release'], d['text_title'])\n",
    "        uid = d['unique_id']\n",
    "        print(uid)\n",
    "        path_naf = f'{path_dir_naf}/{uid}.naf'\n",
    "        \n",
    "        try:\n",
    "            tree = et.parse(path_naf)\n",
    "            print('File is a valid naf!')\n",
    "            print()\n",
    "\n",
    "        except XMLSyntaxError:\n",
    "            print('File is NOT a valid naf')\n",
    "            print()\n",
    "   "
   ]
  },
  {
   "cell_type": "code",
   "execution_count": 26,
   "id": "75750f81-5a19-4b45-a93b-5498ea4a3488",
   "metadata": {},
   "outputs": [],
   "source": [
    "# fix file\n",
    "\n",
    "test_path = f'{path_dir_naf}/508f1047-9908-4750-aeb2-4eb86316d921.naf'\n",
    "\n",
    "with open(test_path) as infile:\n",
    "    naf_txt = infile.read()"
   ]
  },
  {
   "cell_type": "code",
   "execution_count": 12,
   "id": "19d477a4-e63f-4e72-a28e-dda0725b156e",
   "metadata": {},
   "outputs": [],
   "source": [
    "#tree = et.parse(test_path)"
   ]
  },
  {
   "cell_type": "code",
   "execution_count": 27,
   "id": "022c0146-2c62-4d3c-a4cb-80917533331e",
   "metadata": {},
   "outputs": [],
   "source": [
    "naf_list = naf_txt.split('\\n')\n",
    " \n",
    "naf_parts = []\n",
    "lines1 = naf_txt.split('=======')      \n",
    "\n",
    "\n",
    "for lines in lines1:\n",
    "    lines2 = lines.split('>>>>>>> Stashed changes')\n",
    "    for lines in lines2:\n",
    "        lines3 = lines.split('<<<<<<< Updated upstream')\n",
    "        naf_parts.extend(lines3)\n",
    "        \n",
    "        \n",
    "for n, part in enumerate(naf_parts):\n",
    "    with open(f'nafpart{n}.txt', 'w') as outfile:\n",
    "        outfile.write(part)\n",
    "    \n",
    "\n",
    "# for n, part in enumerate(naf_parts):\n",
    "#     print('PART', n)\n",
    "#     print(len(part.split('\\n')))\n",
    "#     print('start')\n",
    "#     print(part[:100])\n",
    "#     print()\n",
    "#     print('end')\n",
    "#     print(part[-100:])\n",
    "#     print()\n",
    "#     print('-------------')\n",
    "#     print()\n",
    "        "
   ]
  },
  {
   "cell_type": "code",
   "execution_count": 92,
   "id": "39d604a8-92f7-44ab-9f30-06147673aea7",
   "metadata": {},
   "outputs": [
    {
     "name": "stdout",
     "output_type": "stream",
     "text": [
      "../data/data-unique-ids-final/unstructured/1681bf80-8d22-44db-92aa-5bc9ad729ebc.naf\n",
      "NAF\n"
     ]
    }
   ],
   "source": [
    "# Test naf\n",
    "print(test_path)\n",
    "\n",
    "tree = et.parse(test_path)\n",
    "\n",
    "root = tree.getroot()\n",
    "print(root.tag)\n"
   ]
  },
  {
   "cell_type": "code",
   "execution_count": null,
   "id": "7bbf6d1f-114d-4de2-9d7a-2940766d291e",
   "metadata": {},
   "outputs": [],
   "source": []
  }
 ],
 "metadata": {
  "kernelspec": {
   "display_name": "Python 3 (ipykernel)",
   "language": "python",
   "name": "python3"
  },
  "language_info": {
   "codemirror_mode": {
    "name": "ipython",
    "version": 3
   },
   "file_extension": ".py",
   "mimetype": "text/x-python",
   "name": "python",
   "nbconvert_exporter": "python",
   "pygments_lexer": "ipython3",
   "version": "3.9.13"
  }
 },
 "nbformat": 4,
 "nbformat_minor": 5
}
