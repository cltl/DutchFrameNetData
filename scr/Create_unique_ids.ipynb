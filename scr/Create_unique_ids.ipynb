{
 "cells": [
  {
   "cell_type": "markdown",
   "id": "95455a73-73df-4316-affa-4aedeb0160d0",
   "metadata": {},
   "source": [
    "# Create unique identifiers and remove duplicates\n",
    "\n",
    "\n",
    "* Find file with the most annotations\n",
    "* Assign unique id \n",
    "* Store in cleaned dataset\n"
   ]
  },
  {
   "cell_type": "code",
   "execution_count": 60,
   "id": "670a6704-5ac0-4bed-975d-1c062c5e644c",
   "metadata": {},
   "outputs": [],
   "source": [
    "import csv\n",
    "import os\n",
    "from collections import defaultdict\n",
    "import uuid"
   ]
  },
  {
   "cell_type": "code",
   "execution_count": 71,
   "id": "298b86c9-3a55-495b-95c9-2817f1cb4e12",
   "metadata": {},
   "outputs": [],
   "source": [
    "with open('../data/overview.csv') as infile:\n",
    "    data = list(csv.DictReader(infile, delimiter = ','))"
   ]
  },
  {
   "cell_type": "code",
   "execution_count": 72,
   "id": "b69a9773-10ca-41cd-b484-efa370f8976f",
   "metadata": {},
   "outputs": [],
   "source": [
    "article_data = defaultdict(list)\n",
    "\n",
    "for d in data:\n",
    "    title = (d['text_title'], d['lang'])\n",
    "    article_data[title].append(d)"
   ]
  },
  {
   "cell_type": "code",
   "execution_count": 73,
   "id": "ee0ecf62-eb11-4d70-a428-c93e56ed7f35",
   "metadata": {},
   "outputs": [
    {
     "name": "stdout",
     "output_type": "stream",
     "text": [
      "37729\n",
      "28642\n"
     ]
    }
   ],
   "source": [
    "print(len(data))\n",
    "print(len(article_data))"
   ]
  },
  {
   "cell_type": "code",
   "execution_count": 74,
   "id": "099014a8-04a5-4ded-9695-8f8173b91ada",
   "metadata": {},
   "outputs": [],
   "source": [
    "for title, d in article_data.items():\n",
    "    if len(d) > 1:\n",
    "        break"
   ]
  },
  {
   "cell_type": "code",
   "execution_count": 30,
   "id": "91edbd07-7925-4331-84d5-7a665cb3ad78",
   "metadata": {},
   "outputs": [
    {
     "data": {
      "text/plain": [
       "('Ultra Music Festival.naf', 'en')"
      ]
     },
     "execution_count": 30,
     "metadata": {},
     "output_type": "execute_result"
    }
   ],
   "source": [
    "title"
   ]
  },
  {
   "cell_type": "code",
   "execution_count": 75,
   "id": "7fa06d0a-e422-4bf0-a00e-d80c98e66567",
   "metadata": {},
   "outputs": [
    {
     "data": {
      "text/plain": [
       "[{'release': 'v1',\n",
       "  'lang': 'en',\n",
       "  'text_title': 'Ultra Music Festival.naf',\n",
       "  'annotation_mode': 'system',\n",
       "  'most_recent_annotation': '2020-05-28T21:22:31UTC',\n",
       "  'most_recent_annotator': 'open-sesame',\n",
       "  'annotators': 'open-sesame',\n",
       "  'creationtime': '2019-07-20T00:00:00UTC'},\n",
       " {'release': 'dfn-data-cleaning-headlines-unlabeled',\n",
       "  'lang': 'en',\n",
       "  'text_title': 'Ultra Music Festival.naf',\n",
       "  'annotation_mode': 'system',\n",
       "  'most_recent_annotation': '2021-01-08T09:25:43UTC',\n",
       "  'most_recent_annotator': 'open-sesame',\n",
       "  'annotators': 'open-sesame',\n",
       "  'creationtime': '1-01-01T00:00:00UTC'},\n",
       " {'release': 'DFNDataReleases',\n",
       "  'lang': 'en',\n",
       "  'text_title': 'Ultra Music Festival.naf',\n",
       "  'annotation_mode': 'system',\n",
       "  'most_recent_annotation': '2021-01-08T09:25:43UTC',\n",
       "  'most_recent_annotator': 'open-sesame',\n",
       "  'annotators': 'open-sesame',\n",
       "  'creationtime': '1-01-01T00:00:00UTC'},\n",
       " {'release': 'DFN_annotations',\n",
       "  'lang': 'en',\n",
       "  'text_title': 'Ultra Music Festival.naf',\n",
       "  'annotation_mode': 'system',\n",
       "  'most_recent_annotation': '2021-01-08T09:25:43UTC',\n",
       "  'most_recent_annotator': 'open-sesame',\n",
       "  'annotators': 'open-sesame',\n",
       "  'creationtime': '1-01-01T00:00:00UTC'}]"
      ]
     },
     "execution_count": 75,
     "metadata": {},
     "output_type": "execute_result"
    }
   ],
   "source": [
    "d"
   ]
  },
  {
   "cell_type": "code",
   "execution_count": 76,
   "id": "697ce06b-303a-404d-9ade-b69a1ee4c7a4",
   "metadata": {},
   "outputs": [
    {
     "data": {
      "text/plain": [
       "{'release': 'dfn-data-cleaning-headlines-unlabeled',\n",
       " 'lang': 'en',\n",
       " 'text_title': 'Ultra Music Festival.naf',\n",
       " 'annotation_mode': 'system',\n",
       " 'most_recent_annotation': '2021-01-08T09:25:43UTC',\n",
       " 'most_recent_annotator': 'open-sesame',\n",
       " 'annotators': 'open-sesame',\n",
       " 'creationtime': '1-01-01T00:00:00UTC',\n",
       " 'other releases': 'v1 DFNDataReleases DFN_annotations',\n",
       " 'unique_id': '5e0a916c-8f25-4058-af46-353edeed8710'}"
      ]
     },
     "execution_count": 76,
     "metadata": {},
     "output_type": "execute_result"
    }
   ],
   "source": [
    "\n",
    "def find_most_annotated(article_data):\n",
    "    \n",
    "    times = defaultdict(list)\n",
    "    \n",
    "    for n, d in enumerate(article_data):\n",
    "        time = d['most_recent_annotation']\n",
    "        # mode = d['annotation_mode']\n",
    "        # release = d['release']\n",
    "        times[time].append(d)\n",
    "        \n",
    "    sorted_times = sorted(times, reverse = True)\n",
    "\n",
    "    most_recent = sorted_times[0]\n",
    "    d_most_recent = times[most_recent]\n",
    "    if len(d_most_recent) == 1:\n",
    "        selected_most_recent = d_most_recent[0]\n",
    "    else:\n",
    "        for d in d_most_recent:\n",
    "            release = d['release']\n",
    "            mode = d['annotation_mode']\n",
    "            if release.startswith('dfn-data-cleaning-headlines') and mode == 'manual':\n",
    "                selected_most_recent = d\n",
    "                break\n",
    "            elif release.startswith('dfn-data-cleaning-headlines') and mode == 'system':\n",
    "                selected_most_recent = d\n",
    "                break\n",
    "            else:\n",
    "                selected_most_recent = None\n",
    "        if selected_most_recent is None:\n",
    "            selected_most_recent = d_most_recent[0]\n",
    "\n",
    "    target_release = selected_most_recent['release']\n",
    "    \n",
    "    # extend with other releases\n",
    "    \n",
    "    other_releases = [d['release'] for d in article_data if d['release'] != target_release]\n",
    "    selected_most_recent['other releases'] = ' '.join(other_releases)\n",
    "    \n",
    "    # add unique id\n",
    "    uid = uuid.uuid4()\n",
    "    selected_most_recent['unique_id'] = str(uid)\n",
    "    return selected_most_recent\n",
    "        \n",
    "\n",
    "find_most_annotated(d)"
   ]
  },
  {
   "cell_type": "code",
   "execution_count": 77,
   "id": "cca0e770-39e9-4ec8-b785-27f923fb9d8f",
   "metadata": {},
   "outputs": [],
   "source": [
    "# store in file\n",
    "\n",
    "data_unique = []\n",
    "\n",
    "for article_title, article_d in article_data.items():\n",
    "    most_recent_d = find_most_annotated(article_d)\n",
    "    data_unique.append(most_recent_d)"
   ]
  },
  {
   "cell_type": "code",
   "execution_count": 78,
   "id": "d9495751-90b4-455e-97a3-483649636e76",
   "metadata": {},
   "outputs": [],
   "source": [
    "header = data_unique[0].keys()\n",
    "with open('../data/overivew-unique.csv', 'w') as outfile:\n",
    "    writer = csv.DictWriter(outfile, fieldnames = header, delimiter = ',')\n",
    "    writer.writeheader()\n",
    "    for d in data_unique:\n",
    "        writer.writerow(d)"
   ]
  },
  {
   "cell_type": "code",
   "execution_count": 79,
   "id": "51c55ead-2cf3-474f-87d1-6d5fbc186ea1",
   "metadata": {},
   "outputs": [
    {
     "name": "stdout",
     "output_type": "stream",
     "text": [
      "28642\n"
     ]
    }
   ],
   "source": [
    "print(len(data_unique))"
   ]
  },
  {
   "cell_type": "code",
   "execution_count": 83,
   "id": "6c25118a-98c1-4b0b-88e0-d662fdf34820",
   "metadata": {},
   "outputs": [
    {
     "name": "stdout",
     "output_type": "stream",
     "text": [
      "../data/releases-and-repos-sorted/v1/unstructured/en/1866 Swiss federal election.naf\n"
     ]
    }
   ],
   "source": [
    "# store original files in one directory\n",
    "\n",
    "for d in data_unique:\n",
    "    release = d['release']\n",
    "    title = d['text_title']\n",
    "    lang = d['lang']\n",
    "    uid = d['unique_id']\n",
    "    path = f'../data/releases-and-repos-sorted/{release}/unstructured/{lang}/{title}'\n",
    "    new_uuid_path = f'../data/data-unique-ids/unstructured/{uid}.naf'\n",
    "    \n",
    "    with open(path) as infile:\n",
    "    break"
   ]
  },
  {
   "cell_type": "code",
   "execution_count": null,
   "id": "1d094f86-aef0-45e7-a291-5f9831fce1d1",
   "metadata": {},
   "outputs": [],
   "source": []
  }
 ],
 "metadata": {
  "kernelspec": {
   "display_name": "Python 3 (ipykernel)",
   "language": "python",
   "name": "python3"
  },
  "language_info": {
   "codemirror_mode": {
    "name": "ipython",
    "version": 3
   },
   "file_extension": ".py",
   "mimetype": "text/x-python",
   "name": "python",
   "nbconvert_exporter": "python",
   "pygments_lexer": "ipython3",
   "version": "3.9.13"
  }
 },
 "nbformat": 4,
 "nbformat_minor": 5
}
